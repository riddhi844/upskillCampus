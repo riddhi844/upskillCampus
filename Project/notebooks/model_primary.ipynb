{
 "cells": [
  {
   "cell_type": "code",
   "execution_count": 8,
   "id": "8e4dbc25",
   "metadata": {},
   "outputs": [
    {
     "name": "stderr",
     "output_type": "stream",
     "text": [
      "c:\\Users\\hp\\Desktop\\Project\\src\\preprocessing.py:6: DtypeWarning: Columns (1,2,3,4,5,6,7,8,9,10,11,12,13,14,15,16,17,18,19,20,21,22,23,24,25,26,27,28,29,30,31,32,33,34,35,36,37,38,39,40,41,42,43,44,45,46,47,48,49,50,51,52,53,54,55,56,57,58,59,60,61,62,63,64,65,66,67,68,69,70,71,72,73,74,75,76,77,78,79,80,81,82,83,84,85,86,87,88,89,90,91,92,93,94,95,96,97,98,99,100,101,102,103,104,105,106,107,108,109,110,111,112,113,114,115) have mixed types. Specify dtype option on import or set low_memory=False.\n",
      "  full_df = pd.read_csv(file_path, header=None)\n"
     ]
    },
    {
     "name": "stdout",
     "output_type": "stream",
     "text": [
      "\n",
      "📊 Mean Squared Error for each of the 15 outputs:\n",
      "  Output 1: 0.20\n",
      "  Output 2: 0.55\n",
      "  Output 3: 0.18\n",
      "  Output 4: 0.52\n",
      "  Output 5: 1.15\n",
      "  Output 6: 0.01\n",
      "  Output 7: 0.02\n",
      "  Output 8: 0.01\n",
      "  Output 9: 0.50\n",
      "  Output 10: 0.40\n",
      "  Output 11: 0.08\n",
      "  Output 12: 0.04\n",
      "  Output 13: 0.00\n",
      "  Output 14: 0.01\n",
      "  Output 15: 0.34\n",
      "✅ Model and scaler saved.\n",
      "📁 Predictions saved to results/predictions.csv\n"
     ]
    }
   ],
   "source": [
    "# Step 1: Imports\n",
    "import sys\n",
    "import os\n",
    "sys.path.append(os.path.abspath(\"..\"))\n",
    "import pandas as pd\n",
    "import joblib\n",
    "from sklearn.model_selection import train_test_split\n",
    "from sklearn.ensemble import RandomForestRegressor\n",
    "from sklearn.multioutput import MultiOutputRegressor\n",
    "from sklearn.metrics import mean_squared_error\n",
    "from src.preprocessing import preprocess\n",
    "\n",
    "# Step 2: Load preprocessed data\n",
    "X, y, scaler = preprocess(\"../data/manufacturing_data.csv\")\n",
    "\n",
    "# Step 3: Train-test split\n",
    "X_train, X_test, y_train, y_test = train_test_split(X, y, test_size=0.2, random_state=42)\n",
    "\n",
    "# Step 4: Define and train model\n",
    "model = MultiOutputRegressor(RandomForestRegressor(n_estimators=100, random_state=42))\n",
    "model.fit(X_train, y_train)\n",
    "\n",
    "# Step 5: Evaluate\n",
    "y_pred = model.predict(X_test)\n",
    "mse = mean_squared_error(y_test, y_pred, multioutput='raw_values')\n",
    "\n",
    "print(\"\\n📊 Mean Squared Error for each of the 15 outputs:\")\n",
    "for i, err in enumerate(mse):\n",
    "    print(f\"  Output {i+1}: {err:.2f}\")\n",
    "\n",
    "# Step 6: Save model and scaler\n",
    "os.makedirs(\"results\", exist_ok=True)\n",
    "\n",
    "joblib.dump(model, \"results/model_primary.pkl\")\n",
    "joblib.dump(scaler, \"results/scaler.pkl\")\n",
    "print(\"✅ Model and scaler saved.\")\n",
    "\n",
    "# Step 7: Predict on full data and save predictions\n",
    "full_preds = model.predict(X)\n",
    "predictions_df = pd.DataFrame(full_preds, columns=[f\"Stage1_C_Actual_{i+1}\" for i in range(full_preds.shape[1])])\n",
    "predictions_df.to_csv(\"results/predictions.csv\", index=False)\n",
    "print(\"📁 Predictions saved to results/predictions.csv\")\n"
   ]
  },
  {
   "cell_type": "code",
   "execution_count": null,
   "id": "6f6e7880",
   "metadata": {},
   "outputs": [],
   "source": []
  }
 ],
 "metadata": {
  "kernelspec": {
   "display_name": "Python 3",
   "language": "python",
   "name": "python3"
  },
  "language_info": {
   "codemirror_mode": {
    "name": "ipython",
    "version": 3
   },
   "file_extension": ".py",
   "mimetype": "text/x-python",
   "name": "python",
   "nbconvert_exporter": "python",
   "pygments_lexer": "ipython3",
   "version": "3.12.1"
  }
 },
 "nbformat": 4,
 "nbformat_minor": 5
}
